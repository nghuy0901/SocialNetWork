{
 "cells": [
  {
   "cell_type": "code",
   "execution_count": 2,
   "metadata": {},
   "outputs": [],
   "source": [
    "from selenium import webdriver\n",
    "from selenium.webdriver.common.by import By\n",
    "from selenium.webdriver.support.ui import WebDriverWait\n",
    "from selenium.webdriver.support import expected_conditions as EC\n",
    "import time\n",
    "import json\n",
    "import getpass\n",
    "from datetime import datetime\n",
    "import os"
   ]
  },
  {
   "cell_type": "code",
   "execution_count": 3,
   "metadata": {},
   "outputs": [],
   "source": [
    "class FacebookGroupScraper:\n",
    "    def __init__(self):\n",
    "        print(\"\\n=== FACEBOOK GROUP MEMBER SCRAPER ===\")\n",
    "        self.get_config()\n",
    "\n",
    "    def get_config(self):\n",
    "        try:\n",
    "            print('Nhap thong tin tai khoan facebook cua ban:')\n",
    "            self.email = input('Email: ').strip()\n",
    "            self.password = input('Password: ').strip()\n",
    "\n",
    "            print('Nhap thong tin nhom can lay thong tin:')\n",
    "            self.group_id = input('Group ID: ').strip()\n",
    "            \n",
    "            print('\\n So lan scroll de load them thanh vien')\n",
    "            self.scroll_count = int( input('So lan scroll: ') or 5 )\n",
    "\n",
    "        except Exception as e:\n",
    "            print(f'Loi cau hinh: {e}')\n",
    "            pass\n",
    "    def setup_driver(self):\n",
    "        try:\n",
    "            self.driver = webdriver.Chrome()\n",
    "            self.driver.maximize_window()\n",
    "        except Exception as e:\n",
    "            print(f'Loi khoi tao driver: {e}')\n",
    "            pass    \n",
    "\n",
    "    def login(self):\n",
    "        try:\n",
    "            self.driver.get('https://www.facebook.com/')\n",
    "            \n",
    "            email_input = self.driver.find_element(By.ID,'email')\n",
    "            email_input.send_keys(self.email)\n",
    "\n",
    "            pass_input = self.driver.find_element(By.ID,'pass')\n",
    "            pass_input.send_keys(self.password)\n",
    "\n",
    "            login_button = self.driver.find_element(By.ID,'loginbutton')\n",
    "            login_button.click()\n",
    "\n",
    "            time.sleep(10)\n",
    "            print('Dang nhap thanh cong')\n",
    "            return True \n",
    "        except Exception as e:\n",
    "            print(f'Loi dang nhap: {e}')\n",
    "            return False\n",
    "        \n",
    "    def get_group_members(self):\n",
    "        try:\n",
    "            self.driver.get(f'https://www.facebook.com/groups/{self.group_id}/members')\n",
    "            time.sleep(5)\n",
    "\n",
    "            members = set() #Dung set de tranh trung lap\n",
    "\n",
    "            for i in range(self.scroll_count):\n",
    "                self.driver.execute_script(\"window.scrollTo(0, document.body.scrollHeight);\")\n",
    "                time.sleep(3)\n",
    "                print(f'Scroll lan {i+1}/{self.scroll_count}')\n",
    "\n",
    "                # Thu Thap thong tin sau moi lan roll\n",
    "                user_elements = self.driver.find_elements(By.CSS_SELECTOR, 'a[href*=\"/user/\"]')\n",
    "                # print(len(user_elements))\n",
    "\n",
    "                for user in user_elements:\n",
    "                    try:\n",
    "                        href = user.get_attribute('href')\n",
    "                        if '/user/' in href:\n",
    "                            user_id = href.split('/user')[1].strip('/')\n",
    "                            name = user.text\n",
    "                            members.add(user_id, name)\n",
    "                    except Exception:\n",
    "                        continue\n",
    "                return list(members)        \n",
    "        except Exception as e:\n",
    "            print(f'Loi thu thap thanh vien: {e}')\n",
    "            return None"
   ]
  },
  {
   "cell_type": "code",
   "execution_count": 5,
   "metadata": {},
   "outputs": [
    {
     "name": "stdout",
     "output_type": "stream",
     "text": [
      "\n",
      "=== FACEBOOK GROUP MEMBER SCRAPER ===\n",
      "Nhap thong tin tai khoan facebook cua ban:\n",
      "Nhap thong tin nhom can lay thong tin:\n",
      "\n",
      " So lan scroll de load them thanh vien\n"
     ]
    }
   ],
   "source": [
    "def main():\n",
    "    scraper = None\n",
    "\n",
    "    try:\n",
    "        scraper = FacebookGroupScraper()\n",
    "        time.sleep(10)\n",
    "    except Exception :\n",
    "        pass\n",
    "\n",
    "if __name__ == '__main__':\n",
    "    main()"
   ]
  },
  {
   "cell_type": "code",
   "execution_count": null,
   "metadata": {},
   "outputs": [],
   "source": []
  }
 ],
 "metadata": {
  "kernelspec": {
   "display_name": "base",
   "language": "python",
   "name": "python3"
  },
  "language_info": {
   "codemirror_mode": {
    "name": "ipython",
    "version": 3
   },
   "file_extension": ".py",
   "mimetype": "text/x-python",
   "name": "python",
   "nbconvert_exporter": "python",
   "pygments_lexer": "ipython3",
   "version": "3.11.4"
  }
 },
 "nbformat": 4,
 "nbformat_minor": 2
}
